{
  "cells": [
    {
      "cell_type": "markdown",
      "metadata": {
        "id": "view-in-github",
        "colab_type": "text"
      },
      "source": [
        "<a href=\"https://colab.research.google.com/github/danielyvf/chatbot-ex1/blob/main/Chatbot_com_Python_e_NLTK_Exemplo_1.ipynb\" target=\"_parent\"><img src=\"https://colab.research.google.com/assets/colab-badge.svg\" alt=\"Open In Colab\"/></a>"
      ]
    },
    {
      "cell_type": "markdown",
      "metadata": {
        "id": "bbdVzJK4Jb6n"
      },
      "source": [
        "# Chatbot simples com Python e NLTK - Exemplo 1"
      ]
    },
    {
      "cell_type": "markdown",
      "metadata": {
        "id": "b6ifx4USLmyn"
      },
      "source": [
        "## Etapa 1: Testes com o chatbot Eliza\n",
        "\n",
        "- Eliza em Lisp: https://www.youtube.com/watch?v=X2O2mn6PqyM&t=2s\n",
        "- Mais chatbots: https://www.nltk.org/api/nltk.chat.html"
      ]
    },
    {
      "cell_type": "code",
      "execution_count": null,
      "metadata": {
        "id": "7H9-kcRp4HLL"
      },
      "outputs": [],
      "source": [
        "#pip install nltk\n",
        "#nltk.download() ferramenta usada no python e Eliza para liguagem natural\n",
        "import nltk"
      ]
    },
    {
      "cell_type": "code",
      "execution_count": null,
      "metadata": {
        "colab": {
          "background_save": true,
          "base_uri": "https://localhost:8080/"
        },
        "id": "fMiKNY3a4VEt",
        "outputId": "820f8aeb-87f3-4338-d430-d1026833b0e1"
      },
      "outputs": [
        {
          "name": "stdout",
          "output_type": "stream",
          "text": [
            "Therapist\n",
            "---------\n",
            "Talk to the program by typing in plain English, using normal upper-\n",
            "and lower-case letters and punctuation.  Enter \"quit\" when done.\n",
            "========================================================================\n",
            "Hello.  How are you feeling today?\n",
            "I see.\n",
            "Why do you tell me you're good?\n",
            "How does being just learnig make you feel?\n"
          ]
        }
      ],
      "source": [
        "nltk.chat.eliza.demo()"
      ]
    },
    {
      "cell_type": "markdown",
      "metadata": {
        "id": "DqGDlGUpJslb"
      },
      "source": [
        "## Etapa 2: Pacote chat do NLTK\n",
        "\n",
        "- Chat: lógica usada pelo chatbot\n",
        "- reflections: dicionário com entradas e suas respectivas saídas"
      ]
    },
    {
      "cell_type": "code",
      "execution_count": null,
      "metadata": {
        "id": "lZwa0wZN5XpM"
      },
      "outputs": [],
      "source": [
        "import nltk\n",
        "from nltk.chat.util import Chat, reflections"
      ]
    },
    {
      "cell_type": "code",
      "execution_count": null,
      "metadata": {
        "id": "7JVJSBqF5nId"
      },
      "outputs": [],
      "source": [
        "reflections"
      ]
    },
    {
      "cell_type": "code",
      "execution_count": null,
      "metadata": {
        "id": "rimuIlYWMkIl"
      },
      "outputs": [],
      "source": [
        "reflections_pt = {'eu': 'você',\n",
        "                  'eu sou': 'você é',\n",
        "                  'eu era': 'você era',\n",
        "                  \"eu iria\": 'você iria',\n",
        "                  \"eu irei\": 'você irá',\n",
        "                  'meu': 'seu',\n",
        "                  'você': 'eu',\n",
        "                  'você é': 'eu sou',\n",
        "                  'você era': 'eu era',\n",
        "                  \"você irá\": 'eu irei',\n",
        "                  'seu': 'meu'}"
      ]
    },
    {
      "cell_type": "code",
      "execution_count": null,
      "metadata": {
        "id": "sU5XwnNE6FKv"
      },
      "outputs": [],
      "source": [
        "pares = [ # formato lista\n",
        "    [\n",
        "     r'oi|olá|opa',\n",
        "     ['olá', 'como vai?', 'tudo bem?']\n",
        "    ],\n",
        "    [\n",
        "     r'qual é o seu nome?',\n",
        "     ['Meu nome é Chat e eu sou um chatbot']\n",
        "    ],\n",
        "    [\n",
        "     r'(.*) idade?', #(.*) o chat fica mais dinamico, respondendo associando com alguma palavra que reconheça\n",
        "     ['Não tenho idade pois sou um chatbot']\n",
        "    ],\n",
        "    [\n",
        "     r'meu nome é (.*)',\n",
        "     ['Olá %1, como você está hoje?'] # completa com o nome que o usuario respondeu onde tem o (.*)\n",
        "    ],\n",
        "    [\n",
        "     r'eu trabalho na empresa (.*)',\n",
        "     ['Eu conheço a empresa %1']\n",
        "    ],\n",
        "    [\n",
        "     r'(.*) (cidade|país)',\n",
        "     ['Porto União, Brasil']\n",
        "    ],\n",
        "    [\n",
        "     r'quit',\n",
        "     ['Até breve', 'Foi bom conversar com você. Até breve!']\n",
        "    ]\n",
        "]"
      ]
    },
    {
      "cell_type": "code",
      "execution_count": null,
      "metadata": {
        "colab": {
          "base_uri": "https://localhost:8080/",
          "height": 173
        },
        "id": "ocerTWVf6a47",
        "outputId": "ae7d18d5-0309-482c-b275-88221a5dc936"
      },
      "outputs": [
        {
          "name": "stdout",
          "output_type": "stream",
          "text": [
            "Olá, sou o chat!\n",
            ">olá\n",
            "como vai?\n",
            ">em qual cidade você mora?\n",
            "Porto União, Brasil\n",
            ">meu nome é jones\n",
            "Olá jones, como você está hoje?\n",
            ">quit\n",
            "Até breve\n"
          ]
        }
      ],
      "source": [
        "print('Olá, sou o chat!')\n",
        "chat = Chat(pares, reflections_pt)\n",
        "chat.converse()"
      ]
    }
  ],
  "metadata": {
    "colab": {
      "provenance": [],
      "include_colab_link": true
    },
    "kernelspec": {
      "display_name": "Python 3",
      "name": "python3"
    }
  },
  "nbformat": 4,
  "nbformat_minor": 0
}